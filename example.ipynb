{
 "cells": [
  {
   "cell_type": "markdown",
   "id": "451e06c4",
   "metadata": {},
   "source": [
    "## Example Planet TTV Analysis Run\n",
    "\n",
    "### Uses Kepler-51 b as an example planet"
   ]
  },
  {
   "cell_type": "code",
   "execution_count": null,
   "id": "3cd170c5",
   "metadata": {},
   "outputs": [],
   "source": [
    "import ttv\n",
    "\n",
    "# For plotting aesthetics\n",
    "\n",
    "%matplotlib inline\n",
    "import matplotlib as mpl\n",
    "import matplotlib.pyplot as plt \n",
    "\n",
    "mpl.rcParams['xtick.minor.size'] = 4\n",
    "mpl.rcParams['ytick.minor.size'] = 4\n",
    "mpl.rcParams['xtick.major.size'] = 6\n",
    "mpl.rcParams['ytick.major.size'] = 6\n",
    "mpl.rcParams['xtick.top'] = True\n",
    "mpl.rcParams['ytick.right'] = True\n",
    "mpl.rcParams['xtick.minor.visible'] = True\n",
    "mpl.rcParams['ytick.minor.visible'] = True\n",
    "mpl.rcParams['xtick.direction'] = 'in'\n",
    "mpl.rcParams['ytick.direction'] = 'in'\n",
    "\n",
    "# Setting some rc params\n",
    "plt.rcParams['figure.figsize'] = [10.0, 3.0]           # Dimensions\n",
    "plt.rcParams['figure.dpi'] = 300                       # Resolution\n",
    "plt.rcParams['savefig.dpi'] = 300\n",
    "plt.rcParams['image.aspect'] = 7                      # Aspect ratio\n",
    "plt.rcParams['lines.linewidth'] = 1\n",
    "\n",
    "cmap = plt.cm.magma\n",
    "cmap.set_bad('k',1.)\n",
    "\n",
    "from matplotlib import cycler\n",
    "plt.rcParams['image.cmap'] = 'magma'                   # Colormap.\n",
    "plt.rcParams['image.origin'] = 'lower'\n",
    "plt.rcParams['axes.prop_cycle'] = cycler(color=['#00695c', 'salmon', 'dodgerblue','lawngreen','tomato','darkorchid','gold','lightgray'])\n",
    "plt.rcParams[\"font.family\"] = \"sans-serif\""
   ]
  },
  {
   "cell_type": "markdown",
   "id": "9857832c",
   "metadata": {},
   "source": [
    "#### Let's download the data"
   ]
  },
  {
   "cell_type": "code",
   "execution_count": null,
   "id": "3a701f53",
   "metadata": {},
   "outputs": [],
   "source": [
    "df = ttv.download_lightkurve('Kepler-51', 'Kepler')\n",
    "df"
   ]
  },
  {
   "cell_type": "markdown",
   "id": "072ed185",
   "metadata": {},
   "source": [
    "Extract the data given from the LC download"
   ]
  },
  {
   "cell_type": "code",
   "execution_count": null,
   "id": "38cc6ea2",
   "metadata": {},
   "outputs": [],
   "source": [
    "time = df['time']\n",
    "data = df['data']\n",
    "err = df['err']"
   ]
  },
  {
   "cell_type": "markdown",
   "id": "150b72ca",
   "metadata": {},
   "source": [
    "Reset the workspace. Please mind this will overwrite the previous 'plots' and 'csvs' folders if present!"
   ]
  },
  {
   "cell_type": "code",
   "execution_count": null,
   "id": "e261264c",
   "metadata": {},
   "outputs": [],
   "source": [
    "ttv.reset()"
   ]
  },
  {
   "cell_type": "markdown",
   "id": "1a99180a",
   "metadata": {},
   "source": [
    "Define the planetary parameters, from Masuda 2014, Masuda et al. 2014, Libby-Roberts et al. 2020"
   ]
  },
  {
   "cell_type": "code",
   "execution_count": null,
   "id": "f3556e7d",
   "metadata": {},
   "outputs": [],
   "source": [
    "kepler_51b = {\n",
    "    \"planet_name\": 'Kepler 51 b',   # String\n",
    "    \"per\": 45.1540,                # Period (days)\n",
    "    \"rp\": 0.07225,                  # Rp/R*\n",
    "    \"axis\": 61.5,                   # Axis\n",
    "    \"t0\": 2455714.5977,            # Time of Conjunction (days)\n",
    "    \"inc\": 89.78,                   # Inclinication (degrees)\n",
    "    \"ecc\": 0.026,                   # Eccentricity\n",
    "    \"w\": 53.3,                      # Argument of periastron\n",
    "    \"td\": 5.754/24,                    # Transit Duration (days)\n",
    "    \"u1_k2\": 0.1,                   # K2/Kepler Limb-darkening parameter 1\n",
    "    \"u2_k2\": 0.3,                   # K2/Kepler Limb-darkening parameter 2\n",
    "    \"t0_explore\": 0.04,             # Float detailing how large to set the t0 parameter exploration (days)\n",
    "}"
   ]
  },
  {
   "cell_type": "code",
   "execution_count": null,
   "id": "4f8ae5ed",
   "metadata": {},
   "outputs": [],
   "source": [
    "results = ttv.ttv_algo(time, data, err, planet=kepler_51b, instrument='Kepler')"
   ]
  },
  {
   "cell_type": "code",
   "execution_count": null,
   "id": "33c9139d",
   "metadata": {},
   "outputs": [],
   "source": [
    "tt = results['time']\n",
    "oc = results['oc']\n",
    "oc_err = results['err_test']    # going to need to fix this\n"
   ]
  },
  {
   "cell_type": "code",
   "execution_count": null,
   "id": "726d15b6",
   "metadata": {},
   "outputs": [],
   "source": []
  }
 ],
 "metadata": {
  "kernelspec": {
   "display_name": "Python 3",
   "language": "python",
   "name": "python3"
  },
  "language_info": {
   "codemirror_mode": {
    "name": "ipython",
    "version": 3
   },
   "file_extension": ".py",
   "mimetype": "text/x-python",
   "name": "python",
   "nbconvert_exporter": "python",
   "pygments_lexer": "ipython3",
   "version": "3.10.1"
  }
 },
 "nbformat": 4,
 "nbformat_minor": 5
}
