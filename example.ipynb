{
 "cells": [
  {
   "cell_type": "markdown",
   "id": "451e06c4",
   "metadata": {},
   "source": [
    "## Example Planet TTV Analysis Run\n",
    "\n",
    "### Uses `planet name` as an example planet"
   ]
  },
  {
   "cell_type": "markdown",
   "id": "0b031957",
   "metadata": {},
   "source": [
    "#### Plotting packages imports"
   ]
  },
  {
   "cell_type": "code",
   "execution_count": null,
   "id": "3cd170c5",
   "metadata": {},
   "outputs": [],
   "source": [
    "%matplotlib inline\n",
    "import matplotlib as mpl\n",
    "import matplotlib.pyplot as plt \n",
    "\n",
    "mpl.rcParams['xtick.minor.size'] = 4\n",
    "mpl.rcParams['ytick.minor.size'] = 4\n",
    "mpl.rcParams['xtick.major.size'] = 6\n",
    "mpl.rcParams['ytick.major.size'] = 6\n",
    "mpl.rcParams['xtick.top'] = True\n",
    "mpl.rcParams['ytick.right'] = True\n",
    "mpl.rcParams['xtick.minor.visible'] = True\n",
    "mpl.rcParams['ytick.minor.visible'] = True\n",
    "mpl.rcParams['xtick.direction'] = 'in'\n",
    "mpl.rcParams['ytick.direction'] = 'in'\n",
    "\n",
    "# Setting some rc params\n",
    "plt.rcParams['figure.figsize'] = [10.0, 3.0]           # Dimensions\n",
    "plt.rcParams['figure.dpi'] = 300                       # Resolution\n",
    "plt.rcParams['savefig.dpi'] = 300\n",
    "plt.rcParams['image.aspect'] = 7                      # Aspect ratio\n",
    "plt.rcParams['lines.linewidth'] = 1\n",
    "\n",
    "cmap = plt.cm.magma\n",
    "cmap.set_bad('k',1.)\n",
    "\n",
    "from matplotlib import cycler\n",
    "plt.rcParams['image.cmap'] = 'magma'                   # Colormap.\n",
    "plt.rcParams['image.origin'] = 'lower'\n",
    "plt.rcParams['axes.prop_cycle'] = cycler(color=['#00695c', 'salmon', 'dodgerblue','lawngreen','tomato','darkorchid','gold','lightgray'])\n",
    "plt.rcParams[\"font.family\"] = \"sans-serif\""
   ]
  },
  {
   "cell_type": "code",
   "execution_count": null,
   "id": "3a701f53",
   "metadata": {},
   "outputs": [],
   "source": []
  }
 ],
 "metadata": {
  "kernelspec": {
   "display_name": "Python 3",
   "language": "python",
   "name": "python3"
  },
  "language_info": {
   "name": "python",
   "version": "3.10.1"
  }
 },
 "nbformat": 4,
 "nbformat_minor": 5
}
